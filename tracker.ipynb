{
 "cells": [
  {
   "cell_type": "markdown",
   "metadata": {},
   "source": [
    "Health and Exercise Tracker Analysis Notebook"
   ]
  },
  {
   "cell_type": "markdown",
   "metadata": {},
   "source": [
    "The following cell pulls the live tracker from Google Drive so I don't have to redownaload the file to a data folder every time."
   ]
  },
  {
   "cell_type": "code",
   "execution_count": 1,
   "metadata": {},
   "outputs": [
    {
     "name": "stdout",
     "output_type": "stream",
     "text": [
      "Your browser has been opened to visit:\n",
      "\n",
      "    https://accounts.google.com/o/oauth2/auth?client_id=895221966072-ivfclv15clemuid8o8fphc3205ccooh2.apps.googleusercontent.com&redirect_uri=http%3A%2F%2Flocalhost%3A8080%2F&scope=https%3A%2F%2Fwww.googleapis.com%2Fauth%2Fdrive&access_type=offline&response_type=code\n",
      "\n",
      "Authentication successful.\n",
      "         date  weight_kg hours_slept  sleep_quality  bpm  walk_distance_km  \\\n",
      "0  07.03.2025         77    06:30:00              4   54               NaN   \n",
      "1  08.03.2025         75    10:36:00              7   56               NaN   \n",
      "\n",
      "   walk_time  run_distance_km        run_time  cycle_distance_km  cycle_time  \\\n",
      "0        NaN              5.1 0 days 00:30:32                NaN         NaN   \n",
      "1        NaN              NaN             NaT                NaN         NaN   \n",
      "\n",
      "   weights_intensity  weights_time  \n",
      "0                NaN           NaN  \n",
      "1                NaN           NaN  \n"
     ]
    }
   ],
   "source": [
    "from pydrive.auth import GoogleAuth\n",
    "from pydrive.drive import GoogleDrive\n",
    "import pandas as pd\n",
    "import requests\n",
    "from io import BytesIO\n",
    "\n",
    "spreadsheetId = \"16EZhzrGxpV86c_1Axe9RpDaQNBbIbFWPVzkUyhOMIiA\"  # <--- Please set the Spreadsheet ID.\n",
    "\n",
    "# 1. Download the Google Spreadsheet as XLSX format.\n",
    "gauth = GoogleAuth()\n",
    "gauth.LocalWebserverAuth()\n",
    "url = \"https://www.googleapis.com/drive/v3/files/\" + spreadsheetId + \"/export?mimeType=application%2Fvnd.openxmlformats-officedocument.spreadsheetml.sheet\"\n",
    "res = requests.get(url, headers={\"Authorization\": \"Bearer \" + gauth.attr['credentials'].access_token})\n",
    "\n",
    "# 2. The downloaded XLSX data is read with `pd.read_excel`.\n",
    "sheet = \"Sheet1\"\n",
    "values = pd.read_excel(BytesIO(res.content), usecols=None, sheet_name=sheet)\n",
    "print(values)"
   ]
  },
  {
   "cell_type": "code",
   "execution_count": 2,
   "metadata": {},
   "outputs": [
    {
     "data": {
      "text/html": [
       "<div>\n",
       "<style scoped>\n",
       "    .dataframe tbody tr th:only-of-type {\n",
       "        vertical-align: middle;\n",
       "    }\n",
       "\n",
       "    .dataframe tbody tr th {\n",
       "        vertical-align: top;\n",
       "    }\n",
       "\n",
       "    .dataframe thead th {\n",
       "        text-align: right;\n",
       "    }\n",
       "</style>\n",
       "<table border=\"1\" class=\"dataframe\">\n",
       "  <thead>\n",
       "    <tr style=\"text-align: right;\">\n",
       "      <th></th>\n",
       "      <th>date</th>\n",
       "      <th>weight_kg</th>\n",
       "      <th>hours_slept</th>\n",
       "      <th>sleep_quality</th>\n",
       "      <th>bpm</th>\n",
       "      <th>walk_distance_km</th>\n",
       "      <th>walk_time</th>\n",
       "      <th>run_distance_km</th>\n",
       "      <th>run_time</th>\n",
       "      <th>cycle_distance_km</th>\n",
       "      <th>cycle_time</th>\n",
       "      <th>weights_intensity</th>\n",
       "      <th>weights_time</th>\n",
       "    </tr>\n",
       "  </thead>\n",
       "  <tbody>\n",
       "    <tr>\n",
       "      <th>0</th>\n",
       "      <td>07.03.2025</td>\n",
       "      <td>77</td>\n",
       "      <td>06:30:00</td>\n",
       "      <td>4</td>\n",
       "      <td>54</td>\n",
       "      <td>NaN</td>\n",
       "      <td>NaN</td>\n",
       "      <td>5.1</td>\n",
       "      <td>0 days 00:30:32</td>\n",
       "      <td>NaN</td>\n",
       "      <td>NaN</td>\n",
       "      <td>NaN</td>\n",
       "      <td>NaN</td>\n",
       "    </tr>\n",
       "    <tr>\n",
       "      <th>1</th>\n",
       "      <td>08.03.2025</td>\n",
       "      <td>75</td>\n",
       "      <td>10:36:00</td>\n",
       "      <td>7</td>\n",
       "      <td>56</td>\n",
       "      <td>NaN</td>\n",
       "      <td>NaN</td>\n",
       "      <td>NaN</td>\n",
       "      <td>NaT</td>\n",
       "      <td>NaN</td>\n",
       "      <td>NaN</td>\n",
       "      <td>NaN</td>\n",
       "      <td>NaN</td>\n",
       "    </tr>\n",
       "  </tbody>\n",
       "</table>\n",
       "</div>"
      ],
      "text/plain": [
       "         date  weight_kg hours_slept  sleep_quality  bpm  walk_distance_km  \\\n",
       "0  07.03.2025         77    06:30:00              4   54               NaN   \n",
       "1  08.03.2025         75    10:36:00              7   56               NaN   \n",
       "\n",
       "   walk_time  run_distance_km        run_time  cycle_distance_km  cycle_time  \\\n",
       "0        NaN              5.1 0 days 00:30:32                NaN         NaN   \n",
       "1        NaN              NaN             NaT                NaN         NaN   \n",
       "\n",
       "   weights_intensity  weights_time  \n",
       "0                NaN           NaN  \n",
       "1                NaN           NaN  "
      ]
     },
     "execution_count": 2,
     "metadata": {},
     "output_type": "execute_result"
    }
   ],
   "source": [
    "values"
   ]
  },
  {
   "cell_type": "code",
   "execution_count": null,
   "metadata": {},
   "outputs": [],
   "source": []
  }
 ],
 "metadata": {
  "kernelspec": {
   "display_name": "Python 3",
   "language": "python",
   "name": "python3"
  },
  "language_info": {
   "codemirror_mode": {
    "name": "ipython",
    "version": 3
   },
   "file_extension": ".py",
   "mimetype": "text/x-python",
   "name": "python",
   "nbconvert_exporter": "python",
   "pygments_lexer": "ipython3",
   "version": "3.13.0"
  }
 },
 "nbformat": 4,
 "nbformat_minor": 2
}
